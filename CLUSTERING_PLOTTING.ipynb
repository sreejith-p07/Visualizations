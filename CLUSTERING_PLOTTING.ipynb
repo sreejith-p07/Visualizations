{
 "cells": [
  {
   "cell_type": "code",
   "execution_count": 2,
   "metadata": {},
   "outputs": [],
   "source": [
    "import pandas as pd\n",
    "import numpy as  np\n",
    "import matplotlib.pyplot as plt\n",
    "from sklearn.datasets import make_blobs\n",
    "import warnings\n",
    "warnings.filterwarnings('ignore')\n",
    "\n",
    "%matplotlib inline"
   ]
  },
  {
   "cell_type": "code",
   "execution_count": 4,
   "metadata": {},
   "outputs": [
    {
     "data": {
      "text/plain": [
       "(array([[ 7.62511805e+00,  2.73130236e+00],\n",
       "        [-6.70078979e+00,  1.03293301e+01],\n",
       "        [-8.85792259e+00,  5.88791592e+00],\n",
       "        [-1.11552627e+01,  5.07158088e+00],\n",
       "        [-7.82261080e+00, -5.52074624e+00],\n",
       "        [-5.68395742e+00, -5.90351717e+00],\n",
       "        [ 4.33210129e+00,  2.45564543e+00],\n",
       "        [-9.59198905e+00,  7.69480282e+00],\n",
       "        [ 4.21642790e+00,  6.32544035e+00],\n",
       "        [-5.57904780e+00, -5.87270345e+00],\n",
       "        [-8.36271595e+00, -6.97535016e+00],\n",
       "        [ 5.00381473e+00,  4.06459809e+00],\n",
       "        [ 6.37276083e+00,  3.65925297e+00],\n",
       "        [-7.65620887e+00, -6.74911097e+00],\n",
       "        [-1.01198553e+01, -6.58178269e+00],\n",
       "        [-8.20601921e+00, -7.77639926e+00],\n",
       "        [-2.62441382e+00,  1.06199388e+01],\n",
       "        [-1.01538804e+01,  7.71342245e+00],\n",
       "        [-5.78161089e+00, -9.46045499e+00],\n",
       "        [-4.34200029e+00, -8.86061439e+00],\n",
       "        [-3.48417728e+00, -5.22816518e+00],\n",
       "        [-7.63953969e+00, -7.92543637e+00],\n",
       "        [-8.32197806e+00,  5.99995341e+00],\n",
       "        [-2.40115250e+00,  6.73468903e+00],\n",
       "        [-7.74720300e+00,  6.82709610e+00],\n",
       "        [-3.59227282e+00,  9.99296819e+00],\n",
       "        [-4.35078735e+00,  9.61540296e+00],\n",
       "        [-7.12248334e+00, -5.93880206e+00],\n",
       "        [-2.17501587e+00,  5.87881393e+00],\n",
       "        [ 2.66075770e+00, -1.39560897e-01],\n",
       "        [-9.31061914e+00, -7.65488411e+00],\n",
       "        [-3.17617348e+00, -9.86773390e+00],\n",
       "        [-1.15793430e+01,  9.48971871e+00],\n",
       "        [-1.01591233e+01,  6.80930557e+00],\n",
       "        [-1.93096465e+00,  1.14751446e+01],\n",
       "        [ 4.79932102e+00,  1.16760864e+00],\n",
       "        [-8.17763743e+00,  6.42156363e+00],\n",
       "        [ 5.57885019e+00,  5.47789869e+00],\n",
       "        [-8.44638124e+00,  6.51241383e+00],\n",
       "        [-2.36238038e+00,  5.83417586e+00],\n",
       "        [-8.80010144e+00, -7.41531157e+00],\n",
       "        [-3.80278739e+00,  8.21147486e+00],\n",
       "        [-8.45004103e+00, -6.14074403e+00],\n",
       "        [-4.26776910e+00, -9.16833580e+00],\n",
       "        [-1.01474808e+01,  1.06713426e+01],\n",
       "        [ 5.64094659e+00,  6.01717594e-01],\n",
       "        [ 3.21665575e+00,  6.67873228e-01],\n",
       "        [-6.76794386e+00, -7.49661135e+00],\n",
       "        [ 2.43560785e+00,  4.72649620e-01],\n",
       "        [-1.04455423e+00,  9.54028790e+00],\n",
       "        [-5.33464306e+00,  6.03024566e+00],\n",
       "        [-3.38020998e+00,  9.19176227e+00],\n",
       "        [-6.95122356e+00,  6.57284187e+00],\n",
       "        [ 5.90552995e+00,  5.18149756e-01],\n",
       "        [-4.87483281e+00,  7.86253539e+00],\n",
       "        [-3.47192820e+00,  1.19779312e+01],\n",
       "        [-3.46677379e+00, -1.00034501e+01],\n",
       "        [-7.28373623e+00, -8.87656268e+00],\n",
       "        [-3.63248257e+00,  8.49002669e+00],\n",
       "        [ 2.73379324e+00,  3.02365546e+00],\n",
       "        [-7.31764962e+00,  6.40047707e+00],\n",
       "        [ 3.16880006e+00,  4.45306473e+00],\n",
       "        [-5.44026739e+00, -6.38843036e+00],\n",
       "        [-8.86875369e+00,  5.71947593e+00],\n",
       "        [-7.44261474e+00,  7.61687012e+00],\n",
       "        [-6.56113168e+00, -7.84045660e+00],\n",
       "        [ 2.94019289e+00,  2.73091757e+00],\n",
       "        [-1.19312576e+00,  7.06093629e+00],\n",
       "        [-7.27813618e+00,  7.08823111e+00],\n",
       "        [-1.32765110e+00,  9.28847538e+00],\n",
       "        [-1.99066327e+00,  8.39815448e+00],\n",
       "        [-8.47977979e+00,  7.34367076e+00],\n",
       "        [-3.96203614e+00,  6.75460021e+00],\n",
       "        [-7.93848553e+00, -5.51621626e+00],\n",
       "        [ 6.88434973e+00, -2.69792017e-01],\n",
       "        [-6.05557076e+00, -6.05805207e+00],\n",
       "        [ 2.92645084e+00,  2.74512555e+00],\n",
       "        [-3.26035664e+00,  9.88238220e+00],\n",
       "        [-6.05555089e+00, -7.15739208e-01],\n",
       "        [-3.27587640e+00,  8.71723177e+00],\n",
       "        [-2.53079318e+00,  7.32194864e+00],\n",
       "        [ 4.98242883e+00, -2.00123620e-02],\n",
       "        [-1.20656549e+01, -8.51912982e+00],\n",
       "        [-8.31966159e+00,  7.11529403e+00],\n",
       "        [-8.68313421e+00,  8.27577416e+00],\n",
       "        [-7.96297195e+00,  7.00001467e+00],\n",
       "        [-8.82993784e+00,  7.39869187e+00],\n",
       "        [-2.36992231e+00,  8.53587437e+00],\n",
       "        [ 4.73301279e+00,  1.44417207e-01],\n",
       "        [-9.18661768e+00,  9.08156588e+00],\n",
       "        [-6.80671225e+00, -7.92267015e+00],\n",
       "        [-4.77379081e+00,  8.34125361e+00],\n",
       "        [ 2.15881735e+00,  2.08287044e+00],\n",
       "        [ 4.58434000e+00,  1.03284824e-01],\n",
       "        [ 4.66068186e+00,  4.29882421e+00],\n",
       "        [-9.98783851e+00,  6.98200747e+00],\n",
       "        [-3.85194566e+00,  8.51954633e+00],\n",
       "        [ 5.04066740e+00,  2.52748682e+00],\n",
       "        [-6.16951611e+00, -5.64069511e+00],\n",
       "        [-3.13657067e+00,  6.67266221e+00],\n",
       "        [-6.74956167e+00,  7.35712906e+00],\n",
       "        [-9.55843251e+00,  8.32008281e+00],\n",
       "        [-3.05754085e+00,  7.73064250e+00],\n",
       "        [-7.21262279e+00, -7.66891109e+00],\n",
       "        [-2.03540518e+00,  9.43197456e+00],\n",
       "        [ 4.28233838e+00,  3.11557047e+00],\n",
       "        [-8.00737333e+00,  9.77590518e+00],\n",
       "        [-7.38405798e+00, -5.66575884e+00],\n",
       "        [-5.01856519e+00, -6.86373670e+00],\n",
       "        [-1.13894120e+01,  6.36452288e+00],\n",
       "        [ 5.05569131e+00,  3.22408628e+00],\n",
       "        [-6.07164754e+00, -5.49490128e+00],\n",
       "        [-1.95940836e+00,  6.19342188e+00],\n",
       "        [-7.73409737e+00,  6.68157016e+00],\n",
       "        [-3.35681395e+00,  9.83551402e+00],\n",
       "        [-1.22365609e+01,  6.48231488e+00],\n",
       "        [-6.51649798e+00,  8.85835624e+00],\n",
       "        [-5.26906616e+00,  8.11462608e+00],\n",
       "        [-3.24621966e+00,  1.07056817e+01],\n",
       "        [-2.69423487e+00,  8.53252022e+00],\n",
       "        [-5.39323582e+00,  6.09576681e+00],\n",
       "        [-4.05490041e+00, -6.23213886e+00],\n",
       "        [ 3.05502072e+00,  1.06709332e+00],\n",
       "        [-8.71704046e+00,  6.24006418e+00],\n",
       "        [-8.29151820e+00,  1.03253963e+01],\n",
       "        [ 3.92545491e+00,  3.34340775e+00],\n",
       "        [-1.97917613e+00,  1.05751583e+01],\n",
       "        [ 5.94150638e+00,  3.78677765e-03],\n",
       "        [ 3.22570694e+00,  2.21912985e+00],\n",
       "        [-8.59598387e-01,  1.05043343e+01],\n",
       "        [-5.35322437e+00, -5.83788359e+00],\n",
       "        [-6.91306974e+00, -6.69238578e+00],\n",
       "        [-1.64159593e-01,  8.65304405e+00],\n",
       "        [-8.79911148e+00,  8.12032018e+00],\n",
       "        [-1.01818827e+01,  6.36449468e+00],\n",
       "        [ 6.18128064e+00,  2.63361917e+00],\n",
       "        [-6.77677916e+00, -8.60450124e+00],\n",
       "        [-3.44931665e+00, -5.86583916e+00],\n",
       "        [-2.35387354e+00,  1.05641181e+01],\n",
       "        [-4.85256935e+00, -8.01238074e+00],\n",
       "        [ 1.56984489e+00,  1.93074748e+00],\n",
       "        [-4.12972742e+00,  9.51708186e+00],\n",
       "        [-1.09507009e+01,  1.02538569e+01],\n",
       "        [ 2.06790566e+00,  2.26858386e+00],\n",
       "        [ 4.51651610e+00,  2.51901284e+00],\n",
       "        [-4.63429530e+00,  9.32926411e+00],\n",
       "        [ 3.55183928e+00,  2.34477560e+00],\n",
       "        [-7.46607236e+00,  7.06762127e+00],\n",
       "        [-6.69799944e+00, -5.82070051e+00],\n",
       "        [-7.58369837e+00, -6.67092467e+00],\n",
       "        [-4.27933358e+00,  7.10035553e+00],\n",
       "        [-8.86794877e+00,  6.86166909e+00],\n",
       "        [ 5.95517509e+00,  5.00803846e+00],\n",
       "        [-9.02159151e+00,  9.30402901e+00],\n",
       "        [-8.11614753e+00, -7.25901936e+00],\n",
       "        [-6.98535036e+00,  8.59018323e+00],\n",
       "        [-1.04479556e+01,  5.38082114e+00],\n",
       "        [ 5.05195946e+00,  1.85405622e+00],\n",
       "        [ 5.39705904e+00,  1.85664342e+00],\n",
       "        [ 6.49363176e+00,  6.60077975e-01],\n",
       "        [-1.20915631e+00,  1.11842702e+01],\n",
       "        [ 4.24725785e+00,  7.67191821e-01],\n",
       "        [ 5.21233861e+00,  2.87042493e+00],\n",
       "        [-9.01234399e+00,  7.96626167e+00],\n",
       "        [-2.86067264e+00,  9.58566624e+00],\n",
       "        [-5.96620237e+00, -5.06320457e+00],\n",
       "        [ 5.10879479e+00,  8.30207415e-01],\n",
       "        [ 3.38667357e+00,  1.45787126e+00],\n",
       "        [-6.43004020e+00, -7.87642882e+00],\n",
       "        [ 5.08258412e+00,  3.29666288e+00],\n",
       "        [-6.79406392e+00,  6.37700869e+00],\n",
       "        [-2.50101609e+00,  8.63894671e+00],\n",
       "        [-8.02411313e+00, -5.79275319e+00],\n",
       "        [-6.30840241e+00, -7.98876495e+00],\n",
       "        [ 6.46839534e+00,  3.17626254e+00],\n",
       "        [-4.57358993e+00, -9.17748904e+00],\n",
       "        [ 4.73624717e+00,  5.91435706e+00],\n",
       "        [-3.47021953e+00,  8.54757613e+00],\n",
       "        [-2.76725476e+00,  9.66076750e+00],\n",
       "        [-8.89704152e+00, -5.41153048e+00],\n",
       "        [-3.25066593e+00,  8.26911852e+00],\n",
       "        [-8.14766037e+00, -7.06368790e+00],\n",
       "        [-8.68204600e+00,  6.08670726e+00],\n",
       "        [-7.83973605e+00,  8.32887573e+00],\n",
       "        [-7.51766160e+00,  8.62513833e+00],\n",
       "        [-1.44567151e-01,  8.18505378e+00],\n",
       "        [ 5.47498534e+00,  2.44834516e+00],\n",
       "        [ 4.91696832e+00,  2.58967749e+00],\n",
       "        [ 3.28500889e+00, -4.50585876e-01],\n",
       "        [-2.56651929e+00,  1.15177160e+01],\n",
       "        [-1.93057998e+00,  7.98209452e+00],\n",
       "        [-8.04821380e+00, -6.53377585e+00],\n",
       "        [-1.02757912e+01,  8.11059359e+00],\n",
       "        [-1.00529400e+01,  7.56415297e+00],\n",
       "        [-2.12205799e+00,  5.95303774e+00],\n",
       "        [-8.34087565e+00,  9.68409286e+00],\n",
       "        [ 7.65777628e+00,  2.25249418e+00],\n",
       "        [ 1.75428818e-02,  1.02421817e+01],\n",
       "        [-7.63471818e+00, -5.13778864e+00],\n",
       "        [ 3.08038816e+00,  3.23250505e+00]]),\n",
       " array([1, 0, 3, 3, 2, 2, 1, 3, 1, 2, 2, 1, 1, 2, 2, 2, 0, 3, 2, 2, 2, 2,\n",
       "        3, 0, 3, 0, 0, 2, 0, 1, 2, 2, 3, 3, 0, 1, 3, 1, 3, 0, 2, 0, 2, 2,\n",
       "        3, 1, 1, 2, 1, 0, 3, 0, 3, 1, 0, 0, 2, 2, 0, 1, 3, 1, 2, 3, 3, 2,\n",
       "        1, 0, 3, 0, 0, 3, 0, 2, 1, 2, 1, 0, 2, 0, 0, 1, 2, 3, 3, 3, 3, 0,\n",
       "        1, 3, 2, 0, 1, 1, 1, 3, 0, 1, 2, 0, 3, 3, 0, 2, 0, 1, 3, 2, 2, 3,\n",
       "        1, 2, 0, 3, 0, 3, 3, 0, 0, 0, 3, 2, 1, 3, 3, 1, 0, 1, 1, 0, 2, 2,\n",
       "        0, 3, 3, 1, 2, 2, 0, 2, 1, 0, 3, 1, 1, 0, 1, 3, 2, 2, 0, 3, 1, 3,\n",
       "        2, 3, 3, 1, 1, 1, 0, 1, 1, 3, 0, 2, 1, 1, 2, 1, 3, 0, 2, 2, 1, 2,\n",
       "        1, 0, 0, 2, 0, 2, 3, 3, 3, 0, 1, 1, 1, 0, 0, 2, 3, 3, 0, 3, 1, 0,\n",
       "        2, 1]))"
      ]
     },
     "execution_count": 4,
     "metadata": {},
     "output_type": "execute_result"
    }
   ],
   "source": [
    "df = make_blobs(n_samples=200,\n",
    "               n_features=2,\n",
    "               centers=4,\n",
    "               cluster_std=1.6,\n",
    "               random_state=42)\n",
    "df"
   ]
  },
  {
   "cell_type": "markdown",
   "metadata": {},
   "source": [
    "##### as we can see it created a label input, but we doesn't need o/p feature for clustering, so we only take 0th part of df"
   ]
  },
  {
   "cell_type": "code",
   "execution_count": 5,
   "metadata": {},
   "outputs": [
    {
     "data": {
      "text/plain": [
       "(200, 2)"
      ]
     },
     "execution_count": 5,
     "metadata": {},
     "output_type": "execute_result"
    }
   ],
   "source": [
    "points = df[0]\n",
    "points.shape"
   ]
  },
  {
   "cell_type": "code",
   "execution_count": 6,
   "metadata": {},
   "outputs": [
    {
     "data": {
      "text/plain": [
       "array([1, 0, 3, 3, 2, 2, 1, 3, 1, 2, 2, 1, 1, 2, 2, 2, 0, 3, 2, 2, 2, 2,\n",
       "       3, 0, 3, 0, 0, 2, 0, 1, 2, 2, 3, 3, 0, 1, 3, 1, 3, 0, 2, 0, 2, 2,\n",
       "       3, 1, 1, 2, 1, 0, 3, 0, 3, 1, 0, 0, 2, 2, 0, 1, 3, 1, 2, 3, 3, 2,\n",
       "       1, 0, 3, 0, 0, 3, 0, 2, 1, 2, 1, 0, 2, 0, 0, 1, 2, 3, 3, 3, 3, 0,\n",
       "       1, 3, 2, 0, 1, 1, 1, 3, 0, 1, 2, 0, 3, 3, 0, 2, 0, 1, 3, 2, 2, 3,\n",
       "       1, 2, 0, 3, 0, 3, 3, 0, 0, 0, 3, 2, 1, 3, 3, 1, 0, 1, 1, 0, 2, 2,\n",
       "       0, 3, 3, 1, 2, 2, 0, 2, 1, 0, 3, 1, 1, 0, 1, 3, 2, 2, 0, 3, 1, 3,\n",
       "       2, 3, 3, 1, 1, 1, 0, 1, 1, 3, 0, 2, 1, 1, 2, 1, 3, 0, 2, 2, 1, 2,\n",
       "       1, 0, 0, 2, 0, 2, 3, 3, 3, 0, 1, 1, 1, 0, 0, 2, 3, 3, 0, 3, 1, 0,\n",
       "       2, 1])"
      ]
     },
     "execution_count": 6,
     "metadata": {},
     "output_type": "execute_result"
    }
   ],
   "source": [
    "df[1]"
   ]
  },
  {
   "cell_type": "markdown",
   "metadata": {},
   "source": [
    "### As we already know there are 4 clusters we can plot a elbow curve and check"
   ]
  },
  {
   "cell_type": "code",
   "execution_count": 7,
   "metadata": {},
   "outputs": [],
   "source": [
    "from sklearn.cluster import KMeans\n",
    "\n",
    "wss=[]\n",
    "K=range(1,15)\n",
    "for k in K:\n",
    "    kmeans=KMeans(n_clusters=k)\n",
    "    kmeans=kmeans.fit(points)\n",
    "    wss.append(kmeans.inertia_)"
   ]
  },
  {
   "cell_type": "code",
   "execution_count": 9,
   "metadata": {},
   "outputs": [
    {
     "data": {
      "text/plain": [
       "Text(0.5, 1.0, 'SCREW PLOT')"
      ]
     },
     "execution_count": 9,
     "metadata": {},
     "output_type": "execute_result"
    },
    {
     "data": {
      "image/png": "[encoded data removed]",
      "text/plain": [
       "<Figure size 432x288 with 1 Axes>"
      ]
     },
     "metadata": {
      "needs_background": "light"
     },
     "output_type": "display_data"
    }
   ],
   "source": [
    "plt.plot(K, wss, 'r*-', markersize=10)\n",
    "plt.xlabel('Clusters')\n",
    "plt.ylabel('WSS')\n",
    "plt.title('SCREW PLOT')"
   ]
  },
  {
   "cell_type": "markdown",
   "metadata": {},
   "source": [
    "## As we can see elbow curve is on k=4, so we select no of clusters=4"
   ]
  },
  {
   "cell_type": "code",
   "execution_count": 10,
   "metadata": {},
   "outputs": [
    {
     "data": {
      "text/plain": [
       "<matplotlib.collections.PathCollection at 0xdd80650>"
      ]
     },
     "execution_count": 10,
     "metadata": {},
     "output_type": "execute_result"
    },
    {
     "data": {
      "image/png": "[encoded data removed]",
      "text/plain": [
       "<Figure size 432x288 with 1 Axes>"
      ]
     },
     "metadata": {
      "needs_background": "light"
     },
     "output_type": "display_data"
    }
   ],
   "source": [
    "plt.scatter(df[0][:,0],df[0][:,1])    # plotting the df i/p labels only"
   ]
  },
  {
   "cell_type": "code",
   "execution_count": 11,
   "metadata": {},
   "outputs": [
    {
     "data": {
      "text/plain": [
       "KMeans(n_clusters=4)"
      ]
     },
     "execution_count": 11,
     "metadata": {},
     "output_type": "execute_result"
    }
   ],
   "source": [
    "# fitting kmeans to 4\n",
    "\n",
    "kmeans = KMeans(n_clusters=4)\n",
    "kmeans.fit(points)"
   ]
  },
  {
   "cell_type": "code",
   "execution_count": 13,
   "metadata": {},
   "outputs": [
    {
     "data": {
      "text/plain": [
       "array([[-2.73756192,  8.80555885],\n",
       "       [-6.6786171 , -6.89505223],\n",
       "       [ 4.55059552,  2.24512923],\n",
       "       [-8.65709326,  7.51452043]])"
      ]
     },
     "execution_count": 13,
     "metadata": {},
     "output_type": "execute_result"
    }
   ],
   "source": [
    "cluster_centres = kmeans.cluster_centers_\n",
    "cluster_centres"
   ]
  },
  {
   "cell_type": "code",
   "execution_count": 14,
   "metadata": {},
   "outputs": [
    {
     "data": {
      "text/plain": [
       "array([2, 3, 3, 3, 0, 0, 2, 3, 2, 0, 0, 2, 2, 0, 0, 0, 1, 3, 0, 0, 0, 0,\n",
       "       3, 1, 3, 1, 1, 0, 1, 2, 0, 0, 3, 3, 1, 2, 3, 2, 3, 1, 0, 1, 0, 0,\n",
       "       3, 2, 2, 0, 2, 1, 3, 1, 3, 2, 1, 1, 0, 0, 1, 2, 3, 2, 0, 3, 3, 0,\n",
       "       2, 1, 3, 1, 1, 3, 1, 0, 2, 0, 2, 1, 0, 1, 1, 2, 0, 3, 3, 3, 3, 1,\n",
       "       2, 3, 0, 1, 2, 2, 2, 3, 1, 2, 0, 1, 3, 3, 1, 0, 1, 2, 3, 0, 0, 3,\n",
       "       2, 0, 1, 3, 1, 3, 3, 1, 1, 1, 3, 0, 2, 3, 3, 2, 1, 2, 2, 1, 0, 0,\n",
       "       1, 3, 3, 2, 0, 0, 1, 0, 2, 1, 3, 2, 2, 1, 2, 3, 0, 0, 1, 3, 2, 3,\n",
       "       0, 3, 3, 2, 2, 2, 1, 2, 2, 3, 1, 0, 2, 2, 0, 2, 3, 1, 0, 0, 2, 0,\n",
       "       2, 1, 1, 0, 1, 0, 3, 3, 3, 1, 2, 2, 2, 1, 1, 0, 3, 3, 1, 3, 2, 1,\n",
       "       0, 2])"
      ]
     },
     "execution_count": 14,
     "metadata": {},
     "output_type": "execute_result"
    }
   ],
   "source": [
    "cluster_predict = kmeans.fit_predict(points)\n",
    "cluster_predict"
   ]
  },
  {
   "cell_type": "code",
   "execution_count": 17,
   "metadata": {},
   "outputs": [
    {
     "data": {
      "text/plain": [
       "array([ -7.8226108 ,  -5.68395742,  -5.5790478 ,  -8.36271595,\n",
       "        -7.65620887, -10.11985533,  -8.20601921,  -5.78161089,\n",
       "        -4.34200029,  -3.48417728,  -7.63953969,  -7.12248334,\n",
       "        -9.31061914,  -3.17617348,  -8.80010144,  -8.45004103,\n",
       "        -4.2677691 ,  -6.76794386,  -3.46677379,  -7.28373623,\n",
       "        -5.44026739,  -6.56113168,  -7.93848553,  -6.05557076,\n",
       "        -6.05555089, -12.06565494,  -6.80671225,  -6.16951611,\n",
       "        -7.21262279,  -7.38405798,  -5.01856519,  -6.07164754,\n",
       "        -4.05490041,  -5.35322437,  -6.91306974,  -6.77677916,\n",
       "        -3.44931665,  -4.85256935,  -6.69799944,  -7.58369837,\n",
       "        -8.11614753,  -5.96620237,  -6.4300402 ,  -8.02411313,\n",
       "        -6.30840241,  -4.57358993,  -8.89704152,  -8.14766037,\n",
       "        -8.0482138 ,  -7.63471818])"
      ]
     },
     "execution_count": 17,
     "metadata": {},
     "output_type": "execute_result"
    }
   ],
   "source": [
    "points[cluster_predict==0,0]"
   ]
  },
  {
   "cell_type": "code",
   "execution_count": 21,
   "metadata": {},
   "outputs": [
    {
     "data": {
      "text/plain": [
       "array([ -6.70078979,  -8.85792259, -11.1552627 ,  -9.59198905,\n",
       "       -10.15388039,  -8.32197806,  -7.747203  , -11.579343  ,\n",
       "       -10.15912327,  -8.17763743,  -8.44638124, -10.14748085,\n",
       "        -5.33464306,  -6.95122356,  -7.31764962,  -8.86875369,\n",
       "        -7.44261474,  -7.27813618,  -8.47977979,  -8.31966159,\n",
       "        -8.68313421,  -7.96297195,  -8.82993784,  -9.18661768,\n",
       "        -9.98783851,  -6.74956167,  -9.55843251,  -8.00737333,\n",
       "       -11.38941201,  -7.73409737, -12.23656092,  -6.51649798,\n",
       "        -5.39323582,  -8.71704046,  -8.2915182 ,  -8.79911148,\n",
       "       -10.1818827 , -10.95070089,  -7.46607236,  -8.86794877,\n",
       "        -9.02159151,  -6.98535036, -10.44795557,  -9.01234399,\n",
       "        -6.79406392,  -8.682046  ,  -7.83973605,  -7.5176616 ,\n",
       "       -10.27579123, -10.05294002,  -8.34087565])"
      ]
     },
     "execution_count": 21,
     "metadata": {},
     "output_type": "execute_result"
    }
   ],
   "source": [
    "points[cluster_predict==3,0]"
   ]
  },
  {
   "cell_type": "code",
   "execution_count": 18,
   "metadata": {},
   "outputs": [
    {
     "data": {
      "text/plain": [
       "<matplotlib.collections.PathCollection at 0xdc2f8d0>"
      ]
     },
     "execution_count": 18,
     "metadata": {},
     "output_type": "execute_result"
    },
    {
     "data": {
      "image/png": "[encoded data removed]",
      "text/plain": [
       "<Figure size 432x288 with 1 Axes>"
      ]
     },
     "metadata": {
      "needs_background": "light"
     },
     "output_type": "display_data"
    }
   ],
   "source": [
    "plt.scatter(points[cluster_predict==0,0], points[cluster_predict==0,1], s=50, color='red')"
   ]
  },
  {
   "cell_type": "code",
   "execution_count": 20,
   "metadata": {},
   "outputs": [
    {
     "data": {
      "text/plain": [
       "<matplotlib.collections.PathCollection at 0xde53310>"
      ]
     },
     "execution_count": 20,
     "metadata": {},
     "output_type": "execute_result"
    },
    {
     "data": {
      "image/png": "[encoded data removed]",
      "text/plain": [
       "<Figure size 432x288 with 1 Axes>"
      ]
     },
     "metadata": {
      "needs_background": "light"
     },
     "output_type": "display_data"
    }
   ],
   "source": [
    "plt.scatter(points[cluster_predict==0,0], points[cluster_predict==0,1], s=50, color='red')\n",
    "plt.scatter(points[cluster_predict==1,0], points[cluster_predict==1,1], s=50, color='green')\n",
    "plt.scatter(points[cluster_predict==2,0], points[cluster_predict==2,1], s=50, color='yellow')\n",
    "plt.scatter(points[cluster_predict==3,0], points[cluster_predict==3,1], s=50, color='cyan')"
   ]
  },
  {
   "cell_type": "markdown",
   "metadata": {},
   "source": [
    "## Just like above scatter plot of points in line 10 we got same scatter plot with clustered into 4, now lets plot centers, as there is only 2 features we are plotting for 0 and 1"
   ]
  },
  {
   "cell_type": "code",
   "execution_count": 27,
   "metadata": {},
   "outputs": [
    {
     "data": {
      "text/plain": [
       "<matplotlib.legend.Legend at 0xf09d9f0>"
      ]
     },
     "execution_count": 27,
     "metadata": {},
     "output_type": "execute_result"
    },
    {
     "data": {
      "image/png": "[encoded data removed]",
      "text/plain": [
       "<Figure size 432x288 with 1 Axes>"
      ]
     },
     "metadata": {
      "needs_background": "light"
     },
     "output_type": "display_data"
    }
   ],
   "source": [
    "plt.scatter(points[cluster_predict==0,0], points[cluster_predict==0,1], s=50, color='red')\n",
    "plt.scatter(points[cluster_predict==1,0], points[cluster_predict==1,1], s=50, color='green')\n",
    "plt.scatter(points[cluster_predict==2,0], points[cluster_predict==2,1], s=50, color='yellow')\n",
    "plt.scatter(points[cluster_predict==3,0], points[cluster_predict==3,1], s=50, color='cyan')\n",
    "\n",
    "plt.scatter(cluster_centres[0,0], cluster_centres[0,1], s=200, color='black', label='centre0')\n",
    "plt.scatter(cluster_centres[1,0], cluster_centres[1,1], s=200, marker='*', color='black',label='centre1')\n",
    "plt.scatter(cluster_centres[2,0], cluster_centres[2,1], s=200, marker='v', color='black',label='centre2')\n",
    "plt.scatter(cluster_centres[3,0], cluster_centres[3,1], s=200, marker='s', color='black',label='centre3')\n",
    "\n",
    "plt.legend(loc=4)"
   ]
  },
  {
   "cell_type": "code",
   "execution_count": null,
   "metadata": {},
   "outputs": [],
   "source": []
  }
 ],
 "metadata": {
  "kernelspec": {
   "display_name": "Python 3",
   "language": "python",
   "name": "python3"
  },
  "language_info": {
   "codemirror_mode": {
    "name": "ipython",
    "version": 3
   },
   "file_extension": ".py",
   "mimetype": "text/x-python",
   "name": "python",
   "nbconvert_exporter": "python",
   "pygments_lexer": "ipython3",
   "version": "3.7.6"
  }
 },
 "nbformat": 4,
 "nbformat_minor": 4
}
